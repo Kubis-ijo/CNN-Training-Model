{
  "nbformat": 4,
  "nbformat_minor": 0,
  "metadata": {
    "colab": {
      "name": "Trial.ipynb",
      "provenance": [],
      "collapsed_sections": [],
      "authorship_tag": "ABX9TyOvA7iyPLI/eKF/HBetlPXz",
      "include_colab_link": true
    },
    "kernelspec": {
      "name": "python3",
      "display_name": "Python 3"
    },
    "language_info": {
      "name": "python"
    },
    "accelerator": "GPU"
  },
  "cells": [
    {
      "cell_type": "markdown",
      "metadata": {
        "id": "view-in-github",
        "colab_type": "text"
      },
      "source": [
        "<a href=\"https://colab.research.google.com/github/Kubis-ijo/CNN-Training-Model/blob/main/Trial.ipynb\" target=\"_parent\"><img src=\"https://colab.research.google.com/assets/colab-badge.svg\" alt=\"Open In Colab\"/></a>"
      ]
    },
    {
      "cell_type": "code",
      "metadata": {
        "colab": {
          "base_uri": "https://localhost:8080/"
        },
        "id": "NhFFwNUdtlFU",
        "outputId": "aa58d84f-ae31-4232-c593-6911deb4922b"
      },
      "source": [
        "from google.colab import drive\n",
        "drive.mount('/content/gdrive')"
      ],
      "execution_count": 1,
      "outputs": [
        {
          "output_type": "stream",
          "text": [
            "Mounted at /content/gdrive\n"
          ],
          "name": "stdout"
        }
      ]
    },
    {
      "cell_type": "code",
      "metadata": {
        "id": "qZucZzQ2Hg5-"
      },
      "source": [
        "import os\n",
        "from tensorflow.keras import layers\n",
        "from tensorflow.keras import Model"
      ],
      "execution_count": 2,
      "outputs": []
    },
    {
      "cell_type": "code",
      "metadata": {
        "id": "JyFKuAGIFocN"
      },
      "source": [
        "base_dir = '/content/gdrive/MyDrive/Machine Learning/Dataset/Klasifikasi-Sampah/DATASET'\n",
        "train_dir = os.path.join(base_dir, 'TRAIN')\n",
        "validation_dir = os.path.join(base_dir, 'TEST')\n",
        "\n",
        "train_r_dir = os.path.join(train_dir, 'R')\n",
        "train_o_dir = os.path.join(train_dir, 'O')\n",
        "\n",
        "val_r_dir = os.path.join(validation_dir, 'R')\n",
        "val_o_dir = os.path.join(validation_dir, 'O')"
      ],
      "execution_count": 3,
      "outputs": []
    },
    {
      "cell_type": "code",
      "metadata": {
        "colab": {
          "base_uri": "https://localhost:8080/"
        },
        "id": "ULOtlvcBQHYO",
        "outputId": "ebbe99dd-0860-4c3f-ee8e-9aeea8365c0f"
      },
      "source": [
        "print('Total Training R : ', len(os.listdir(train_r_dir)))\n",
        "print('Total Training O : ', len(os.listdir(train_o_dir)))\n",
        "print('Total Test R : ', len(os.listdir(val_r_dir)))\n",
        "print('Total Test O : ', len(os.listdir(val_o_dir)))"
      ],
      "execution_count": 4,
      "outputs": [
        {
          "output_type": "stream",
          "text": [
            "Total Training R :  9999\n",
            "Total Training O :  12565\n",
            "Total Test R :  1112\n",
            "Total Test O :  1401\n"
          ],
          "name": "stdout"
        }
      ]
    },
    {
      "cell_type": "code",
      "metadata": {
        "id": "qe1W87QAJIvq"
      },
      "source": [
        "img_input = layers.Input(shape=(150, 150, 3))\n",
        "\n",
        "#Layer Pertama\n",
        "x = layers.Conv2D(16, 3, activation=\"relu\")(img_input)\n",
        "x = layers.MaxPooling2D(2)(x)\n",
        "\n",
        "#Layer Kedua\n",
        "x = layers.Conv2D(32, 3, activation=\"relu\")(img_input)\n",
        "x = layers.MaxPooling2D(2)(x)\n",
        "\n",
        "#Layer Ketiga\n",
        "x = layers.Conv2D(64, 3, activation=\"relu\")(img_input)\n",
        "x = layers.MaxPooling2D(2)(x)\n",
        "\n",
        "x = layers.Dropout(0.3)(x)"
      ],
      "execution_count": 5,
      "outputs": []
    },
    {
      "cell_type": "code",
      "metadata": {
        "id": "cxp_-IMVKIae"
      },
      "source": [
        "x = layers.Flatten()(x)\n",
        "\n",
        "x = layers.Dense(512, activation=\"relu\")(x)\n",
        "\n",
        "output = layers.Dense(1, activation=\"sigmoid\")(x)\n",
        "\n",
        "model = Model(img_input, output)"
      ],
      "execution_count": 6,
      "outputs": []
    },
    {
      "cell_type": "code",
      "metadata": {
        "id": "GWLOgnz0K59n"
      },
      "source": [
        "from tensorflow.keras.optimizers import RMSprop\n",
        "\n",
        "model.compile(loss = 'binary_crossentropy',\n",
        "              optimizer = RMSprop(learning_rate=0.001),\n",
        "              metrics = ('acc'))"
      ],
      "execution_count": 7,
      "outputs": []
    },
    {
      "cell_type": "code",
      "metadata": {
        "colab": {
          "base_uri": "https://localhost:8080/"
        },
        "id": "_nWGv9d1L2sc",
        "outputId": "822d8772-91f8-4951-f97f-419768c2b90b"
      },
      "source": [
        "from tensorflow.keras.preprocessing.image import ImageDataGenerator\n",
        "\n",
        "train_datagen = ImageDataGenerator(rescale=1./255)\n",
        "val_datagen = ImageDataGenerator(rescale=1./255)\n",
        "\n",
        "train_generator = train_datagen.flow_from_directory(\n",
        "    train_dir, target_size=(150, 150), batch_size=100,\n",
        "    class_mode = 'binary')\n",
        "\n",
        "validation_generator = val_datagen.flow_from_directory(\n",
        "    validation_dir, target_size=(150, 150), batch_size=100,\n",
        "    class_mode = 'binary')"
      ],
      "execution_count": 8,
      "outputs": [
        {
          "output_type": "stream",
          "text": [
            "Found 22564 images belonging to 2 classes.\n",
            "Found 2513 images belonging to 2 classes.\n"
          ],
          "name": "stdout"
        }
      ]
    },
    {
      "cell_type": "code",
      "metadata": {
        "colab": {
          "base_uri": "https://localhost:8080/"
        },
        "id": "ukMfabdETcjC",
        "outputId": "c0769306-2d21-483d-9b62-bd7b320ec52b"
      },
      "source": [
        "history = model.fit(\n",
        "    train_generator,\n",
        "    steps_per_epoch=225,\n",
        "    epochs=5,\n",
        "    validation_data=validation_generator,\n",
        "    validation_steps=25,\n",
        "    verbose=2)"
      ],
      "execution_count": 9,
      "outputs": [
        {
          "output_type": "stream",
          "text": [
            "Epoch 1/5\n",
            "225/225 - 5783s - loss: 3.3362 - acc: 0.7569 - val_loss: 0.4325 - val_acc: 0.8168\n",
            "Epoch 2/5\n",
            "225/225 - 57s - loss: 0.4149 - acc: 0.8227 - val_loss: 0.3091 - val_acc: 0.8864\n",
            "Epoch 3/5\n",
            "225/225 - 56s - loss: 0.3858 - acc: 0.8418 - val_loss: 0.5154 - val_acc: 0.8000\n",
            "Epoch 4/5\n",
            "225/225 - 56s - loss: 0.3268 - acc: 0.8709 - val_loss: 0.3838 - val_acc: 0.8900\n",
            "Epoch 5/5\n",
            "225/225 - 56s - loss: 0.2610 - acc: 0.8995 - val_loss: 0.3653 - val_acc: 0.8788\n"
          ],
          "name": "stdout"
        }
      ]
    },
    {
      "cell_type": "code",
      "metadata": {
        "id": "KhiPnVKM5TT5"
      },
      "source": [
        "model.save('trial2.h5')"
      ],
      "execution_count": 10,
      "outputs": []
    }
  ]
}